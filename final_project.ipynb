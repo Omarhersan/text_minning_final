{
 "cells": [
  {
   "cell_type": "code",
   "execution_count": 12,
   "id": "initial_id",
   "metadata": {
    "collapsed": true,
    "ExecuteTime": {
     "end_time": "2023-11-29T22:19:48.750671500Z",
     "start_time": "2023-11-29T22:19:37.607137300Z"
    }
   },
   "outputs": [],
   "source": [
    "# Load model directly\n",
    "from transformers import AutoTokenizer, AutoModelForSeq2SeqLM\n",
    "\n",
    "tokenizer = AutoTokenizer.from_pretrained(\"Helsinki-NLP/opus-mt-es-fr\")\n",
    "model = AutoModelForSeq2SeqLM.from_pretrained(\"Helsinki-NLP/opus-mt-es-fr\")"
   ]
  },
  {
   "cell_type": "code",
   "execution_count": 13,
   "outputs": [],
   "source": [
    "with open('./data/es-fr/UNv1.0.es-fr.es', encoding='utf-8') as file:\n",
    "    src_text = file.read()\n",
    "    src_text = src_text[:1550]\n"
   ],
   "metadata": {
    "collapsed": false,
    "ExecuteTime": {
     "end_time": "2023-11-29T22:22:19.520497Z",
     "start_time": "2023-11-29T22:19:48.753676200Z"
    }
   },
   "id": "6997ddf5aff20aaf"
  },
  {
   "cell_type": "code",
   "execution_count": 14,
   "outputs": [],
   "source": [
    "import string\n",
    "def clean_text(doc):\n",
    "  tokens = doc.split()\n",
    "  table = str.maketrans('','',string.punctuation)        # remove the punctuations\n",
    "  tokens = [(w.translate(table)) for w in tokens]  # list without punctuations (removing the punctuations)\n",
    "  tokens = [word for word in tokens if word.isalpha()]   # remove non alphanumeric special charactors\n",
    "  tokens = [word.lower() for word in tokens]               # convert into lowercase letters\n",
    "  return tokens"
   ],
   "metadata": {
    "collapsed": false,
    "ExecuteTime": {
     "end_time": "2023-11-29T22:22:19.578508Z",
     "start_time": "2023-11-29T22:22:19.471161900Z"
    }
   },
   "id": "7e18b73718389da9"
  },
  {
   "cell_type": "code",
   "execution_count": 37,
   "outputs": [],
   "source": [
    "tokenized = clean_text(src_text)\n",
    "tokenized_text = ' '.join(tokenized)"
   ],
   "metadata": {
    "collapsed": false,
    "ExecuteTime": {
     "end_time": "2023-11-29T22:31:53.673997500Z",
     "start_time": "2023-11-29T22:31:53.648403800Z"
    }
   },
   "id": "d27a9013eb9c5e9"
  },
  {
   "cell_type": "code",
   "execution_count": 16,
   "outputs": [],
   "source": [
    "translated = model.generate(**tokenizer(tokenized_text, return_tensors=\"pt\", padding=True))"
   ],
   "metadata": {
    "collapsed": false,
    "ExecuteTime": {
     "end_time": "2023-11-29T22:22:31.884820Z",
     "start_time": "2023-11-29T22:22:19.557489600Z"
    }
   },
   "id": "35a4331556bfae89"
  },
  {
   "cell_type": "code",
   "execution_count": 58,
   "outputs": [
    {
     "data": {
      "text/plain": "'d &apos; une convention générale sur les sixièmes sessions du gin à décembre point b de l &apos; ordre du jour provisoire et annotations à l &apos; ordre du jour provisoire y compris des suggestions pour l &apos; organisation des travaux additif Note du Secrétaire exécutif calendrier provisoire de travail proposé à l &apos; issue de consultations avec le Président lundi de décembre heures ouverture de la session intervention du Président intervention du Secrétaire général de l &apos; organisation météorologique mondiale adoption de l &apos; ordre du jour et organisation de la page la liste des tâches de la conférence des parties annotées annexe i et rapport sur les débats de l &apos; Assemblée générale concernant les changements climatiques la signature et la ratification de la convention les activités des organes du système des nations unies qui sont pertinentes pour les préparatifs de la première session de la conférence des parties les communications reçues des États et des organisations régionales d &apos; intégration économique conformément au paragraphe de la résolution interventions des délégations ou observateurs pour compléter les informations fournies par le Secrétaire exécutif mardi de décembre heures élaboration d &apos; un plan de travail pour le comité suivi d &apos; une réunion plénière informelle pour examiner les propositions et préparer les décisions relatives au plan de travail du comité à son mercredi de décembre'"
     },
     "execution_count": 58,
     "metadata": {},
     "output_type": "execute_result"
    }
   ],
   "source": [
    "translated_text = [tokenizer.decode(t, skip_special_tokens=True) for t in translated][0]\n",
    "translated_text"
   ],
   "metadata": {
    "collapsed": false,
    "ExecuteTime": {
     "end_time": "2023-11-29T22:40:00.284548700Z",
     "start_time": "2023-11-29T22:40:00.257994100Z"
    }
   },
   "id": "30b2e7f72665e5f3"
  },
  {
   "cell_type": "code",
   "execution_count": 60,
   "outputs": [
    {
     "data": {
      "text/plain": "\"d ' une convention générale sur les sixièmes sessions du gin à décembre point b de l ' ordre du jour provisoire et annotations à l ' ordre du jour provisoire y compris des suggestions pour l ' organisation des travaux additif Note du Secrétaire exécutif calendrier provisoire de travail proposé à l ' issue de consultations avec le Président lundi de décembre heures ouverture de la session intervention du Président intervention du Secrétaire général de l ' organisation météorologique mondiale adoption de l ' ordre du jour et organisation de la page la liste des tâches de la conférence des parties annotées annexe i et rapport sur les débats de l ' Assemblée générale concernant les changements climatiques la signature et la ratification de la convention les activités des organes du système des nations unies qui sont pertinentes pour les préparatifs de la première session de la conférence des parties les communications reçues des États et des organisations régionales d ' intégration économique conformément au paragraphe de la résolution interventions des délégations ou observateurs pour compléter les informations fournies par le Secrétaire exécutif mardi de décembre heures élaboration d ' un plan de travail pour le comité suivi d ' une réunion plénière informelle pour examiner les propositions et préparer les décisions relatives au plan de travail du comité à son mercredi de décembre\""
     },
     "execution_count": 60,
     "metadata": {},
     "output_type": "execute_result"
    }
   ],
   "source": [
    "translated_text = translated_text.replace('&apos;', '\\'')\n",
    "translated_text"
   ],
   "metadata": {
    "collapsed": false,
    "ExecuteTime": {
     "end_time": "2023-11-29T22:40:11.347907400Z",
     "start_time": "2023-11-29T22:40:11.286209800Z"
    }
   },
   "id": "9d855bb4603f4616"
  },
  {
   "cell_type": "code",
   "execution_count": 23,
   "outputs": [],
   "source": [
    "with open('translated_text.txt', 'w') as file:\n",
    "    file.write(translated_text)\n",
    "    "
   ],
   "metadata": {
    "collapsed": false,
    "ExecuteTime": {
     "end_time": "2023-11-29T22:25:05.259884100Z",
     "start_time": "2023-11-29T22:25:05.226889200Z"
    }
   },
   "id": "2f0992c69f12e12b"
  },
  {
   "cell_type": "code",
   "execution_count": 20,
   "outputs": [],
   "source": [
    "with open('./data/es-fr/UNv1.0.es-fr.fr', encoding='utf-8') as file:\n",
    "    target_text = file.read()\n",
    "    target_text = target_text[:1550]"
   ],
   "metadata": {
    "collapsed": false,
    "ExecuteTime": {
     "end_time": "2023-11-29T22:24:54.119476800Z",
     "start_time": "2023-11-29T22:22:58.303107300Z"
    }
   },
   "id": "8f1bc0a6d891af93"
  },
  {
   "cell_type": "code",
   "execution_count": 21,
   "outputs": [
    {
     "data": {
      "text/plain": "\"D'UNE CONVENTION-CADRE SUR LES CHANGEMENTS CLIMATIQUES\\nSixième session\\nGenève, 7-10 décembre 1992\\nPoint 1 b) de l'ordre du jour provisoire\\nORDRE DU JOUR PROVISOIRE ANNOTE, ASSORTI DE SUGGESTIONS\\nCONCERNANT L'ORGANISATION DES TRAVAUX\\nAdditif\\nNote du Secrétaire exécutif\\nProjet de calendrier des travaux proposé\\naprès consultation du Président\\nLundi 7 décembre\\n15 heures Ouverture de la session\\nDéclaration du Président\\nDéclaration du Secrétaire général de l'Organisation\\nmétéorologique mondiale\\nAdoption de l'ordre du jour et organisation des travaux\\nGE.92-63308/9749C (F)\\npage 2\\n- L'énumération des tâches de la Conférence des\\nParties (ordre du jour provisoire annoté, annexe I)\\net présenter des informations concernant :\\n- Les débats de l'Assemblée générale sur les\\nchangements climatiques\\n- La signature et la ratification de la Convention\\n- Les activités des organes du système des\\nNations Unies qui ont un rapport avec les\\npréparatifs de la première session de la\\nConférence des Parties\\n- Les communications reçues des Etats et des\\norganisations d'intégration économique régionale,\\nconformément au paragraphe 6 de la résolution\\nINC/1992/1\\nDéclarations faites par des délégations ou des\\nobservateurs pour compléter les renseignements fournis\\npar le Secrétaire exécutif\\nMardi 8 décembre\\n10 heures Elaboration d'un plan de travail pour le Comité : déclarations\\npuis :\\nRéunion plénière officieuse pour examiner des\\npropositions et préparer des décisions concernant le\\nplan de travail du Comité, son organisation (y compris\\nMercredi 9 décembre\\n10 heur\""
     },
     "execution_count": 21,
     "metadata": {},
     "output_type": "execute_result"
    }
   ],
   "source": [
    "target_text"
   ],
   "metadata": {
    "collapsed": false,
    "ExecuteTime": {
     "end_time": "2023-11-29T22:24:54.271340700Z",
     "start_time": "2023-11-29T22:24:54.017988500Z"
    }
   },
   "id": "a0598d8ecddb2e8f"
  },
  {
   "cell_type": "code",
   "execution_count": 62,
   "outputs": [],
   "source": [
    "target_tokens = clean_text(target_text)\n",
    "target_text = ' '.join(target_tokens)\n",
    "\n",
    "# Create a list with the texts\n",
    "texts = [target_text, translated_text]"
   ],
   "metadata": {
    "collapsed": false,
    "ExecuteTime": {
     "end_time": "2023-11-29T22:42:43.386127600Z",
     "start_time": "2023-11-29T22:42:43.358994600Z"
    }
   },
   "id": "aec5e2581448c3eb"
  },
  {
   "cell_type": "code",
   "execution_count": 65,
   "outputs": [],
   "source": [
    "from sklearn.feature_extraction.text import TfidfVectorizer\n",
    "from nltk.corpus import stopwords\n",
    "\n",
    "vectorizer = TfidfVectorizer(max_features=2000, stop_words=stopwords.words('french'))\n",
    "vectorized_texts = vectorizer.fit_transform(texts)"
   ],
   "metadata": {
    "collapsed": false,
    "ExecuteTime": {
     "end_time": "2023-11-29T22:42:57.666174Z",
     "start_time": "2023-11-29T22:42:57.632177500Z"
    }
   },
   "id": "90f62f65650ec68f"
  },
  {
   "cell_type": "code",
   "execution_count": 66,
   "outputs": [
    {
     "data": {
      "text/plain": "array([[1.        , 0.69440149],\n       [0.69440149, 1.        ]])"
     },
     "execution_count": 66,
     "metadata": {},
     "output_type": "execute_result"
    }
   ],
   "source": [
    "from sklearn.metrics.pairwise import cosine_similarity\n",
    "similarity = cosine_similarity(X=vectorized_texts)\n",
    "similarity"
   ],
   "metadata": {
    "collapsed": false,
    "ExecuteTime": {
     "end_time": "2023-11-29T22:43:13.246129100Z",
     "start_time": "2023-11-29T22:43:13.190594700Z"
    }
   },
   "id": "f28aac80dcc21731"
  },
  {
   "cell_type": "code",
   "execution_count": 69,
   "outputs": [
    {
     "data": {
      "text/plain": "0.6944014901497653"
     },
     "execution_count": 69,
     "metadata": {},
     "output_type": "execute_result"
    }
   ],
   "source": [
    "similarity[0][1]"
   ],
   "metadata": {
    "collapsed": false,
    "ExecuteTime": {
     "end_time": "2023-11-30T02:58:39.491304600Z",
     "start_time": "2023-11-30T02:58:39.475674800Z"
    }
   },
   "id": "7543ac76e7654682"
  },
  {
   "cell_type": "code",
   "execution_count": 3,
   "outputs": [],
   "source": [
    "from transformers import AutoTokenizer, AutoModelForSeq2SeqLM\n",
    "from sklearn.feature_extraction.text import TfidfVectorizer\n",
    "from nltk.corpus import stopwords\n",
    "from sklearn.metrics.pairwise import cosine_similarity\n",
    "import string\n",
    "\n",
    "\n",
    "\n",
    "def clean_text(doc):\n",
    "    tokens = doc.split()\n",
    "    table = str.maketrans('', '', string.punctuation)\n",
    "    tokens = [w.translate(table) for w in tokens]\n",
    "    tokens = [word for word in tokens if word.isalpha()]\n",
    "    tokens = [word.lower() for word in tokens]\n",
    "    return tokens\n",
    "\n",
    "def translate_and_compare(src_text, target_text):\n",
    "    tokenizer = AutoTokenizer.from_pretrained(\"Helsinki-NLP/opus-mt-es-fr\")\n",
    "    model = AutoModelForSeq2SeqLM.from_pretrained(\"Helsinki-NLP/opus-mt-es-fr\")\n",
    "\n",
    "    tokenized = clean_text(src_text)\n",
    "    tokenized_text = ' '.join(tokenized)\n",
    "\n",
    "    translated = model.generate(**tokenizer(tokenized_text, return_tensors=\"pt\", padding=True))\n",
    "\n",
    "    translated_text = [tokenizer.decode(t, skip_special_tokens=True) for t in translated][0]\n",
    "    translated_text = translated_text.replace('&apos;', '\\'')\n",
    "\n",
    "    with open('translated_text.txt', 'w') as file:\n",
    "        file.write(translated_text)\n",
    "\n",
    "    target_tokens = clean_text(target_text)\n",
    "    target_text = ' '.join(target_tokens)\n",
    "\n",
    "    # Create a list with the texts\n",
    "    texts = [target_text, translated_text]\n",
    "\n",
    "    vectorizer = TfidfVectorizer(max_features=2000, stop_words=stopwords.words('french'))\n",
    "    vectorized_texts = vectorizer.fit_transform(texts)\n",
    "\n",
    "    similarity = cosine_similarity(X=vectorized_texts)\n",
    "    return similarity[0, 1]\n",
    "\n",
    "# Example of iterating the process 10 times\n",
    "num_iterations = 10\n",
    "total_similarity = 0\n",
    "\n",
    "for _ in range(num_iterations):\n",
    "    with open('./data/es-fr/UNv1.0.es-fr.es', encoding='utf-8') as file:\n",
    "        src_text = file.read()[:1500]\n",
    "\n",
    "    with open('./data/es-fr/UNv1.0.es-fr.fr', encoding='utf-8') as file:\n",
    "        target_text = file.read()[:1500]\n",
    "\n",
    "    iteration_similarity = translate_and_compare(src_text, target_text)\n",
    "    total_similarity += iteration_similarity\n",
    "\n",
    "average_similarity = total_similarity/num_iterations"
   ],
   "metadata": {
    "collapsed": false,
    "ExecuteTime": {
     "end_time": "2023-11-30T21:50:34.116010600Z",
     "start_time": "2023-11-30T21:16:12.506727700Z"
    }
   },
   "id": "c7addd7a5ee8ad3"
  },
  {
   "cell_type": "code",
   "execution_count": 4,
   "outputs": [
    {
     "data": {
      "text/plain": "0.6718157662906455"
     },
     "execution_count": 4,
     "metadata": {},
     "output_type": "execute_result"
    }
   ],
   "source": [
    "average_similarity"
   ],
   "metadata": {
    "collapsed": false,
    "ExecuteTime": {
     "end_time": "2023-11-30T21:50:35.057766Z",
     "start_time": "2023-11-30T21:50:34.063456200Z"
    }
   },
   "id": "9baef724d933cb81"
  },
  {
   "cell_type": "code",
   "execution_count": null,
   "outputs": [],
   "source": [],
   "metadata": {
    "collapsed": false
   },
   "id": "275c38680ae84764"
  }
 ],
 "metadata": {
  "kernelspec": {
   "display_name": "Python 3",
   "language": "python",
   "name": "python3"
  },
  "language_info": {
   "codemirror_mode": {
    "name": "ipython",
    "version": 2
   },
   "file_extension": ".py",
   "mimetype": "text/x-python",
   "name": "python",
   "nbconvert_exporter": "python",
   "pygments_lexer": "ipython2",
   "version": "2.7.6"
  }
 },
 "nbformat": 4,
 "nbformat_minor": 5
}
