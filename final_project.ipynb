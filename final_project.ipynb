{
 "cells": [
  {
   "cell_type": "code",
   "execution_count": 1,
   "id": "initial_id",
   "metadata": {
    "collapsed": true,
    "ExecuteTime": {
     "end_time": "2023-11-29T02:17:29.788636600Z",
     "start_time": "2023-11-29T02:17:18.836471400Z"
    }
   },
   "outputs": [],
   "source": [
    "# Load model directly\n",
    "from transformers import AutoTokenizer, AutoModelForSeq2SeqLM\n",
    "\n",
    "tokenizer = AutoTokenizer.from_pretrained(\"Helsinki-NLP/opus-mt-es-fr\")\n",
    "model = AutoModelForSeq2SeqLM.from_pretrained(\"Helsinki-NLP/opus-mt-es-fr\")"
   ]
  },
  {
   "cell_type": "code",
   "execution_count": 15,
   "outputs": [],
   "source": [
    "with open('./data/es-fr/UNv1.0.es-fr.es', encoding='utf-8') as file:\n",
    "    src_text = file.read()\n",
    "    src_text = src_text[:1550]\n"
   ],
   "metadata": {
    "collapsed": false,
    "ExecuteTime": {
     "end_time": "2023-11-29T03:38:15.355704400Z",
     "start_time": "2023-11-29T03:36:57.551972Z"
    }
   },
   "id": "6997ddf5aff20aaf"
  },
  {
   "cell_type": "code",
   "execution_count": 16,
   "outputs": [],
   "source": [
    "import string\n",
    "def clean_text(doc):\n",
    "  tokens = doc.split()\n",
    "  table = str.maketrans('','',string.punctuation)        # remove the punctuations\n",
    "  tokens = [(w.translate(table)) for w in tokens]  # list without punctuations (removing the punctuations)\n",
    "  tokens = [word for word in tokens if word.isalpha()]   # remove non alphanumeric special charactors\n",
    "  tokens = [word.lower() for word in tokens]               # convert into lowercase letters\n",
    "  return tokens"
   ],
   "metadata": {
    "collapsed": false,
    "ExecuteTime": {
     "end_time": "2023-11-29T03:38:19.615692600Z",
     "start_time": "2023-11-29T03:38:19.553512400Z"
    }
   },
   "id": "7e18b73718389da9"
  },
  {
   "cell_type": "code",
   "execution_count": 17,
   "outputs": [
    {
     "data": {
      "text/plain": "'de una convencion general sobre los sexto período de sesiones ginebra a de diciembre de tema b del programa provisional programa provisional y anotaciones al programa provisional incluidas sugerencias para la organizacion de los trabajos adición nota del secretario ejecutivo calendario de trabajo provisional propuesto tras celebrar consultas con el presidente lunes de diciembre horas apertura del período de sesiones intervención del presidente intervención del secretario general de la organización meteorológica mundial aprobación del programa y organización de los s página la lista de las tareas de la conferencia de las partes anotaciones anexo i e informar sobre los debates de la asamblea general relativos a los cambios climáticos la firma y ratificación de la convención las actividades de órganos del sistema de las naciones unidas que son pertinentes para los preparativos del primer período de sesiones de la conferencia de las partes las comunicaciones recibidas de estados y organizaciones regionales de integración económica conforme al párrafo de la resolución intervenciones de delegaciones u observadores para complementar la información proporcionada por el secretario ejecutivo martes de diciembre horas elaboración de un plan de trabajo para el comité seguido de una reunión plenaria oficiosa para estudiar las propuestas y preparar las decisiones relativas al plan de trabajo para el comité a su miércoles de diciembre horas reunió'"
     },
     "execution_count": 17,
     "metadata": {},
     "output_type": "execute_result"
    }
   ],
   "source": [
    "tokenized_text = clean_text(src_text)\n",
    "tokenized_text = ' '.join(tokenized_text)\n",
    "tokenized_text"
   ],
   "metadata": {
    "collapsed": false,
    "ExecuteTime": {
     "end_time": "2023-11-29T03:38:20.240061700Z",
     "start_time": "2023-11-29T03:38:20.208022300Z"
    }
   },
   "id": "d27a9013eb9c5e9"
  },
  {
   "cell_type": "code",
   "execution_count": 18,
   "outputs": [],
   "source": [
    "translated = model.generate(**tokenizer(tokenized_text, return_tensors=\"pt\", padding=True))"
   ],
   "metadata": {
    "collapsed": false,
    "ExecuteTime": {
     "end_time": "2023-11-29T03:38:32.649732100Z",
     "start_time": "2023-11-29T03:38:21.268193100Z"
    }
   },
   "id": "35a4331556bfae89"
  },
  {
   "cell_type": "code",
   "execution_count": 25,
   "outputs": [],
   "source": [
    "translated_text = [tokenizer.decode(t, skip_special_tokens=True) for t in translated][0]"
   ],
   "metadata": {
    "collapsed": false,
    "ExecuteTime": {
     "end_time": "2023-11-29T03:42:18.463102Z",
     "start_time": "2023-11-29T03:42:18.447440600Z"
    }
   },
   "id": "30b2e7f72665e5f3"
  },
  {
   "cell_type": "code",
   "execution_count": 26,
   "outputs": [
    {
     "data": {
      "text/plain": "'d &apos; une convention générale sur les sixièmes sessions du gin à décembre point b de l &apos; ordre du jour provisoire et annotations à l &apos; ordre du jour provisoire y compris des suggestions pour l &apos; organisation des travaux additif Note du Secrétaire exécutif calendrier provisoire de travail proposé à l &apos; issue de consultations avec le Président lundi de décembre heures ouverture de la session intervention du Président intervention du Secrétaire général de l &apos; organisation météorologique mondiale adoption de l &apos; ordre du jour et organisation de la page la liste des tâches de la conférence des parties annotées annexe i et rapport sur les débats de l &apos; Assemblée générale concernant les changements climatiques la signature et la ratification de la convention les activités des organes du système des nations unies qui sont pertinentes pour les préparatifs de la première session de la conférence des parties les communications reçues des États et des organisations régionales d &apos; intégration économique conformément au paragraphe de la résolution interventions des délégations ou observateurs pour compléter les informations fournies par le Secrétaire exécutif mardi de décembre heures élaboration d &apos; un plan de travail pour le comité suivi d &apos; une réunion plénière informelle pour examiner les propositions et préparer les décisions relatives au plan de travail du comité à son mercredi de décembre'"
     },
     "execution_count": 26,
     "metadata": {},
     "output_type": "execute_result"
    }
   ],
   "source": [
    "translated_text"
   ],
   "metadata": {
    "collapsed": false,
    "ExecuteTime": {
     "end_time": "2023-11-29T03:42:19.814983500Z",
     "start_time": "2023-11-29T03:42:19.799293100Z"
    }
   },
   "id": "9d855bb4603f4616"
  },
  {
   "cell_type": "code",
   "execution_count": 27,
   "outputs": [],
   "source": [
    "with open('translated_text.txt', 'w') as file:\n",
    "    file.write(translated_text)\n",
    "    "
   ],
   "metadata": {
    "collapsed": false,
    "ExecuteTime": {
     "end_time": "2023-11-29T03:42:21.316400Z",
     "start_time": "2023-11-29T03:42:21.300743800Z"
    }
   },
   "id": "2f0992c69f12e12b"
  },
  {
   "cell_type": "code",
   "execution_count": null,
   "outputs": [],
   "source": [],
   "metadata": {
    "collapsed": false
   },
   "id": "8f1bc0a6d891af93"
  }
 ],
 "metadata": {
  "kernelspec": {
   "display_name": "Python 3",
   "language": "python",
   "name": "python3"
  },
  "language_info": {
   "codemirror_mode": {
    "name": "ipython",
    "version": 2
   },
   "file_extension": ".py",
   "mimetype": "text/x-python",
   "name": "python",
   "nbconvert_exporter": "python",
   "pygments_lexer": "ipython2",
   "version": "2.7.6"
  }
 },
 "nbformat": 4,
 "nbformat_minor": 5
}
